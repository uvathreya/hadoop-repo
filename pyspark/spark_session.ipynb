{
 "cells": [
  {
   "cell_type": "code",
   "execution_count": 1,
   "metadata": {},
   "outputs": [],
   "source": [
    "import pyspark\n",
    "from pyspark.sql import SparkSession"
   ]
  },
  {
   "cell_type": "code",
   "execution_count": 2,
   "metadata": {},
   "outputs": [
    {
     "name": "stdout",
     "output_type": "stream",
     "text": [
      "First SparkContext:\n",
      "APP Name :PySparkExampleDemo\n",
      "Master :local[1]\n"
     ]
    }
   ],
   "source": [
    "spark = SparkSession.builder.master(\"local[1]\") \\\n",
    "                    .appName('PySparkExampleDemo') \\\n",
    "                    .getOrCreate()\n",
    "print(\"First SparkContext:\");\n",
    "print(\"APP Name :\"+spark.sparkContext.appName);\n",
    "print(\"Master :\"+spark.sparkContext.master);\n",
    "spark.stop()"
   ]
  },
  {
   "cell_type": "code",
   "execution_count": 3,
   "metadata": {},
   "outputs": [
    {
     "name": "stdout",
     "output_type": "stream",
     "text": [
      "Second SparkContext:\n",
      "APP Name :PySparkExampleDemo2\n",
      "Master :local[1]\n"
     ]
    }
   ],
   "source": [
    "spark2 = SparkSession.builder.master(\"local[1]\") \\\n",
    "                          .appName(\"PySparkExampleDemo2\") \\\n",
    "                          .getOrCreate();\n",
    "print(\"Second SparkContext:\")\n",
    "print(\"APP Name :\"+spark2.sparkContext.appName);\n",
    "print(\"Master :\"+spark2.sparkContext.master);\n",
    "# spark.stop()"
   ]
  },
  {
   "cell_type": "code",
   "execution_count": 11,
   "metadata": {},
   "outputs": [
    {
     "name": "stdout",
     "output_type": "stream",
     "text": [
      "Third SparkContext:\n",
      "APP Name :PySparkExampleDemo2\n",
      "Master :local[1]\n"
     ]
    }
   ],
   "source": [
    "spark3 = SparkSession.newSession(spark2)\n",
    "print(\"Third SparkContext:\")\n",
    "print(\"APP Name :\"+spark3.sparkContext.appName);\n",
    "print(\"Master :\"+spark3.sparkContext.master);"
   ]
  }
 ],
 "metadata": {
  "kernelspec": {
   "display_name": "Python 3.9.1 64-bit ('my_env': conda)",
   "language": "python",
   "name": "python391jvsc74a57bd0ab88f8d8cbbcde50b6847df9cf75f0481bc134e870de959eb908027e13484796"
  },
  "language_info": {
   "codemirror_mode": {
    "name": "ipython",
    "version": 3
   },
   "file_extension": ".py",
   "mimetype": "text/x-python",
   "name": "python",
   "nbconvert_exporter": "python",
   "pygments_lexer": "ipython3",
   "version": "3.9.1"
  }
 },
 "nbformat": 4,
 "nbformat_minor": 2
}
