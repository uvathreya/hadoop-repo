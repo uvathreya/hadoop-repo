{
 "cells": [
  {
   "cell_type": "code",
   "execution_count": 1,
   "source": [
    "import pyspark\r\n",
    "from pyspark.sql import SparkSession"
   ],
   "outputs": [],
   "metadata": {}
  },
  {
   "cell_type": "code",
   "execution_count": 2,
   "source": [
    "spark = SparkSession.builder.master(\"local[1]\") \\\r\n",
    "                    .appName('PySparkExampleDemo') \\\r\n",
    "                    .getOrCreate()\r\n",
    "print(\"First SparkContext:\");\r\n",
    "print(\"APP Name :\"+spark.sparkContext.appName);\r\n",
    "print(\"Master :\"+spark.sparkContext.master);\r\n",
    "spark.stop()"
   ],
   "outputs": [
    {
     "output_type": "stream",
     "name": "stdout",
     "text": [
      "First SparkContext:\n",
      "APP Name :PySparkExampleDemo\n",
      "Master :local[1]\n"
     ]
    }
   ],
   "metadata": {}
  },
  {
   "cell_type": "code",
   "execution_count": 3,
   "source": [
    "spark2 = SparkSession.builder.master(\"local[1]\") \\\r\n",
    "                          .appName(\"PySparkExampleDemo2\") \\\r\n",
    "                          .getOrCreate();\r\n",
    "print(\"Second SparkContext:\")\r\n",
    "print(\"APP Name :\"+spark2.sparkContext.appName);\r\n",
    "print(\"Master :\"+spark2.sparkContext.master);\r\n",
    "# spark.stop()"
   ],
   "outputs": [
    {
     "output_type": "stream",
     "name": "stdout",
     "text": [
      "Second SparkContext:\n",
      "APP Name :PySparkExampleDemo2\n",
      "Master :local[1]\n"
     ]
    }
   ],
   "metadata": {}
  },
  {
   "cell_type": "code",
   "execution_count": 11,
   "source": [
    "spark3 = SparkSession.newSession(spark2)\r\n",
    "print(\"Third SparkContext:\")\r\n",
    "print(\"APP Name :\"+spark3.sparkContext.appName);\r\n",
    "print(\"Master :\"+spark3.sparkContext.master);"
   ],
   "outputs": [
    {
     "output_type": "stream",
     "name": "stdout",
     "text": [
      "Third SparkContext:\n",
      "APP Name :PySparkExampleDemo2\n",
      "Master :local[1]\n"
     ]
    }
   ],
   "metadata": {}
  }
 ],
 "metadata": {
  "kernelspec": {
   "name": "python3",
   "display_name": "Python 3.8.5 64-bit ('base': conda)"
  },
  "language_info": {
   "codemirror_mode": {
    "name": "ipython",
    "version": 3
   },
   "file_extension": ".py",
   "mimetype": "text/x-python",
   "name": "python",
   "nbconvert_exporter": "python",
   "pygments_lexer": "ipython3",
   "version": "3.8.5"
  },
  "interpreter": {
   "hash": "bdf56476358ac535b91ee7f3f9cd0c09fe6490241d31b6256d2c842c495b64a5"
  }
 },
 "nbformat": 4,
 "nbformat_minor": 2
}