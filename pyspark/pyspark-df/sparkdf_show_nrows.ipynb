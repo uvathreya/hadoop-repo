{
 "cells": [
  {
   "cell_type": "code",
   "execution_count": 1,
   "metadata": {},
   "outputs": [],
   "source": [
    "from pyspark.sql import SparkSession\n",
    "spark = SparkSession.builder.appName('SparkDFShowNRows').getOrCreate()\n",
    "simpleData = [(\"James\",34),(\"Ann\",34),\n",
    "    (\"Michael\",33),(\"Scott\",53),\n",
    "    (\"Robert\",37),(\"Chad\",27)\n",
    "  ]"
   ]
  },
  {
   "cell_type": "code",
   "execution_count": 2,
   "metadata": {},
   "outputs": [
    {
     "name": "stdout",
     "output_type": "stream",
     "text": [
      "+---------+---+\n",
      "|firstname|age|\n",
      "+---------+---+\n",
      "|    James| 34|\n",
      "|      Ann| 34|\n",
      "|  Michael| 33|\n",
      "|    Scott| 53|\n",
      "|   Robert| 37|\n",
      "|     Chad| 27|\n",
      "+---------+---+\n",
      "\n",
      "[Row(firstname='James', age=34), Row(firstname='Ann', age=34)]\n",
      "[Row(firstname='Robert', age=37), Row(firstname='Chad', age=27)]\n",
      "[Row(firstname='James', age=34), Row(firstname='Ann', age=34)]\n",
      "Row(firstname='James', age=34)\n",
      "[Row(firstname='James', age=34), Row(firstname='Ann', age=34), Row(firstname='Michael', age=33), Row(firstname='Scott', age=53), Row(firstname='Robert', age=37), Row(firstname='Chad', age=27)]\n",
      "  firstname  age\n",
      "0     James   34\n",
      "1       Ann   34\n",
      "2   Michael   33\n"
     ]
    }
   ],
   "source": [
    "\n",
    "columns = [\"firstname\",\"age\",]\n",
    "df = spark.createDataFrame(data = simpleData, schema = columns)\n",
    "df.show()\n",
    "print(df.take(2)) #Returns the first ``num`` rows as a :class:`list` of :class:`Row`.Internally calls limit and collect Action, Return Array[T].\n",
    "print(df.tail(2)) #Returns the last ``num`` rows as a :class:`list` of :class:`Row`.Running tail requires moving data into the application's driver process, and doing so with a very large ``num`` can crash the driver process with OutOfMemoryError.\n",
    "print(df.head(2)) #returns first n rows with default value as 1.\n",
    "print(df.first())\n",
    "print(df.collect())#Returns all the records as a list of :class:`Row`.Action, Return Array[T]\n",
    "pandasDF=df.limit(3).toPandas()#Limits the result count to the number specified.Returns a new Dataset by taking the first n rows.\n",
    "print(pandasDF)\n",
    "\n"
   ]
  }
 ],
 "metadata": {
  "interpreter": {
   "hash": "bdf56476358ac535b91ee7f3f9cd0c09fe6490241d31b6256d2c842c495b64a5"
  },
  "kernelspec": {
   "display_name": "Python 3.8.5 64-bit ('base': conda)",
   "name": "python3"
  },
  "language_info": {
   "codemirror_mode": {
    "name": "ipython",
    "version": 3
   },
   "file_extension": ".py",
   "mimetype": "text/x-python",
   "name": "python",
   "nbconvert_exporter": "python",
   "pygments_lexer": "ipython3",
   "version": "3.8.5"
  },
  "orig_nbformat": 4
 },
 "nbformat": 4,
 "nbformat_minor": 2
}
