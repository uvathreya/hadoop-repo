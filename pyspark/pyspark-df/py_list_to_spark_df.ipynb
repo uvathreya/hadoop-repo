{
 "cells": [
  {
   "cell_type": "code",
   "execution_count": 1,
   "source": [
    "import pyspark\r\n",
    "from pyspark.sql import SparkSession\r\n",
    "spark = SparkSession.builder.master(\"local[1]\") \\\r\n",
    "                    .appName('py_list_to_spark_df') \\\r\n",
    "                    .getOrCreate()"
   ],
   "outputs": [],
   "metadata": {}
  },
  {
   "cell_type": "code",
   "execution_count": null,
   "source": [
    "data = [(\"James\",\"Smith\",\"USA\",\"CA\"),(\"Michael\",\"Rose\",\"USA\",\"NY\"), \\\r\n",
    "    (\"Robert\",\"Williams\",\"USA\",\"CA\"),(\"Maria\",\"Jones\",\"USA\",\"FL\") \\\r\n",
    "  ]\r\n",
    "columns=[\"firstname\",\"lastname\",\"country\",\"state\"]\r\n",
    "df=spark.createDataFrame(data=data,schema=columns)\r\n",
    "df.show()\r\n",
    "print(df.collect())"
   ],
   "outputs": [],
   "metadata": {}
  },
  {
   "cell_type": "code",
   "execution_count": null,
   "source": [
    "states1=df.rdd.map(lambda x: x[3]).collect()\r\n",
    "print(states1)\r\n",
    "#['CA', 'NY', 'CA', 'FL']\r\n",
    "from collections import OrderedDict \r\n",
    "res = list(OrderedDict.fromkeys(states1)) \r\n",
    "print(res)\r\n",
    "#['CA', 'NY', 'FL']"
   ],
   "outputs": [],
   "metadata": {}
  },
  {
   "cell_type": "code",
   "execution_count": null,
   "source": [
    "#Example 2\r\n",
    "states2=df.rdd.map(lambda x: x.state).collect()\r\n",
    "print(states2)\r\n",
    "#['CA', 'NY', 'CA', 'FL']"
   ],
   "outputs": [],
   "metadata": {}
  },
  {
   "cell_type": "code",
   "execution_count": null,
   "source": [
    "states3=df.select(df.state).collect()\r\n",
    "print(states3)\r\n",
    "#[Row(state='CA'), Row(state='NY'), Row(state='CA'), Row(state='FL')]"
   ],
   "outputs": [],
   "metadata": {}
  },
  {
   "cell_type": "code",
   "execution_count": null,
   "source": [
    "states4=df.select(df.state).rdd.flatMap(lambda x: x).collect()\r\n",
    "print(states4)\r\n",
    "#['CA', 'NY', 'CA', 'FL']"
   ],
   "outputs": [],
   "metadata": {}
  },
  {
   "cell_type": "code",
   "execution_count": null,
   "source": [
    "states5=df.select(df.state).toPandas()['state']\r\n",
    "states6=list(states5)\r\n",
    "print(states6)\r\n",
    "#['CA', 'NY', 'CA', 'FL']"
   ],
   "outputs": [],
   "metadata": {}
  },
  {
   "cell_type": "code",
   "execution_count": null,
   "source": [
    "pandDF=df.select(df.state,df.firstname).toPandas()\r\n",
    "print(list(pandDF['state']))\r\n",
    "print(list(pandDF['firstname']))"
   ],
   "outputs": [],
   "metadata": {}
  }
 ],
 "metadata": {
  "kernelspec": {
   "name": "python3",
   "display_name": "Python 3.8.5 64-bit ('base': conda)"
  },
  "language_info": {
   "codemirror_mode": {
    "name": "ipython",
    "version": 3
   },
   "file_extension": ".py",
   "mimetype": "text/x-python",
   "name": "python",
   "nbconvert_exporter": "python",
   "pygments_lexer": "ipython3",
   "version": "3.8.5"
  },
  "interpreter": {
   "hash": "bdf56476358ac535b91ee7f3f9cd0c09fe6490241d31b6256d2c842c495b64a5"
  }
 },
 "nbformat": 4,
 "nbformat_minor": 2
}