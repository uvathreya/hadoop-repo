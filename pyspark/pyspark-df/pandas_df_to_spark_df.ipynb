{
 "cells": [
  {
   "cell_type": "code",
   "execution_count": 3,
   "source": [
    "import pandas as pd\r\n",
    "data = [[\"Scott\", 50], [\"Jeff Bezos\", 45], [\"Thomas\", 54], [\"Ann\", 34]]\r\n",
    "pandasDF = pd.DataFrame(data, columns=[\"Name\", \"Age\"])\r\n",
    "print(pandasDF)"
   ],
   "outputs": [
    {
     "output_type": "stream",
     "name": "stdout",
     "text": [
      "         Name  Age\n",
      "0       Scott   50\n",
      "1  Jeff Bezos   45\n",
      "2      Thomas   54\n",
      "3         Ann   34\n"
     ]
    }
   ],
   "metadata": {}
  },
  {
   "cell_type": "code",
   "execution_count": null,
   "source": [
    "from pyspark.sql import SparkSession\r\n",
    "spark = (\r\n",
    "    SparkSession.builder.master(\"local[1]\")\\\r\n",
    "            .appName(\"PySparkExamplesDemo\")\\\r\n",
    "            .getOrCreate()\r\n",
    ")\r\n",
    "print(spark)\r\n",
    "print(type(pandasDF))\r\n",
    "sparkDF = spark.createDataFrame(pandasDF)\r\n",
    "sparkDF.printSchema()\r\n",
    "sparkDF.show()"
   ],
   "outputs": [],
   "metadata": {}
  },
  {
   "cell_type": "code",
   "execution_count": null,
   "source": [
    "from pyspark.sql.types import StructType,StructField, StringType, IntegerType\r\n",
    "mySchema = StructType([ StructField(\"First Name\", StringType(), True)\\\r\n",
    "                       ,StructField(\"Age\", IntegerType(), True)])\r\n",
    "\r\n",
    "sparkDF2 = spark.createDataFrame(pandasDF,schema=mySchema)\r\n",
    "sparkDF2.printSchema()\r\n",
    "sparkDF2.show()"
   ],
   "outputs": [],
   "metadata": {}
  },
  {
   "cell_type": "code",
   "execution_count": null,
   "source": [
    "spark.conf.set(\"spark.sql.execution.arrow.enabled\",\"true\")\r\n",
    "spark.conf.set(\"spark.sql.execution.arrow.pyspark.fallback.enabled\",\"true\")\r\n",
    "pandasDF2=sparkDF2.select(\"*\").toPandas\r\n",
    "print(pandasDF2)"
   ],
   "outputs": [],
   "metadata": {}
  },
  {
   "cell_type": "code",
   "execution_count": null,
   "source": [
    "test=spark.conf.get(\"spark.sql.execution.arrow.enabled\")\r\n",
    "print(test)\r\n",
    "test123=spark.conf.get(\"spark.sql.execution.arrow.pyspark.fallback.enabled\")\r\n",
    "print(test123)"
   ],
   "outputs": [],
   "metadata": {}
  }
 ],
 "metadata": {
  "kernelspec": {
   "name": "python3",
   "display_name": "Python 3.8.5 64-bit ('base': conda)"
  },
  "language_info": {
   "codemirror_mode": {
    "name": "ipython",
    "version": 3
   },
   "file_extension": ".py",
   "mimetype": "text/x-python",
   "name": "python",
   "nbconvert_exporter": "python",
   "pygments_lexer": "ipython3",
   "version": "3.8.5"
  },
  "interpreter": {
   "hash": "bdf56476358ac535b91ee7f3f9cd0c09fe6490241d31b6256d2c842c495b64a5"
  }
 },
 "nbformat": 4,
 "nbformat_minor": 2
}