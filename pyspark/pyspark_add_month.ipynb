{
 "cells": [
  {
   "cell_type": "code",
   "execution_count": 1,
   "source": [
    "import pyspark\r\n",
    "from pyspark.sql import SparkSession\r\n",
    "spark = SparkSession.builder.master(\"local[1]\") \\\r\n",
    "                    .appName('spark_add_month_demo') \\\r\n",
    "                    .getOrCreate()"
   ],
   "outputs": [],
   "metadata": {}
  },
  {
   "cell_type": "code",
   "execution_count": null,
   "source": [
    "from pyspark.sql.functions import col,expr\r\n",
    "data=[(\"2019-01-23\",1),(\"2019-06-24\",2),(\"2019-09-20\",3)]\r\n",
    "df = spark.createDataFrame(data).toDF(\"date\",\"increment\") \\\r\n",
    "    .select(col(\"date\"),col(\"increment\"), \\\r\n",
    "      expr(\"add_months(to_date(date,'yyyy-MM-dd'),cast(increment as int))\").alias(\"inc_date\"))\r\n",
    "df.show().take(1)"
   ],
   "outputs": [],
   "metadata": {}
  }
 ],
 "metadata": {
  "kernelspec": {
   "name": "python3",
   "display_name": "Python 3.8.5 64-bit ('base': conda)"
  },
  "language_info": {
   "codemirror_mode": {
    "name": "ipython",
    "version": 3
   },
   "file_extension": ".py",
   "mimetype": "text/x-python",
   "name": "python",
   "nbconvert_exporter": "python",
   "pygments_lexer": "ipython3",
   "version": "3.8.5"
  },
  "interpreter": {
   "hash": "bdf56476358ac535b91ee7f3f9cd0c09fe6490241d31b6256d2c842c495b64a5"
  }
 },
 "nbformat": 4,
 "nbformat_minor": 2
}